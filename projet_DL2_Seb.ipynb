{
 "cells": [
  {
   "cell_type": "code",
   "execution_count": 2,
   "metadata": {},
   "outputs": [],
   "source": [
    "## Import libraries\n",
    "import numpy as np\n",
    "import matplotlib.pyplot as plt\n",
    "\n",
    "from scipy.io import loadmat\n",
    "np.random.seed(421)"
   ]
  },
  {
   "cell_type": "markdown",
   "metadata": {},
   "source": [
    "### 1. Loading the data"
   ]
  },
  {
   "cell_type": "markdown",
   "metadata": {},
   "source": [
    "#### 1.1- Binary alphadigits"
   ]
  },
  {
   "cell_type": "code",
   "execution_count": 3,
   "metadata": {},
   "outputs": [],
   "source": [
    "## Unzip the data\n",
    "import zipfile\n",
    "\n",
    "with zipfile.ZipFile('data.zip', 'r') as zip_ref:\n",
    "    zip_ref.extractall('.')\n"
   ]
  },
  {
   "cell_type": "code",
   "execution_count": 4,
   "metadata": {},
   "outputs": [],
   "source": [
    "##  AlphaDigits dataset\n",
    "path_AlDi = './data/binaryalphadigs.mat'\n",
    "data_alphadigits = loadmat(path_AlDi) "
   ]
  },
  {
   "cell_type": "code",
   "execution_count": 5,
   "metadata": {},
   "outputs": [
    {
     "data": {
      "text/plain": [
       "dict_keys(['__header__', '__version__', '__globals__', 'dat', 'numclass', 'classlabels', 'classcounts'])"
      ]
     },
     "execution_count": 5,
     "metadata": {},
     "output_type": "execute_result"
    }
   ],
   "source": [
    "data_alphadigits.keys()"
   ]
  },
  {
   "cell_type": "code",
   "execution_count": 6,
   "metadata": {},
   "outputs": [
    {
     "name": "stdout",
     "output_type": "stream",
     "text": [
      "(36, 39)\n",
      "(20, 16)\n"
     ]
    }
   ],
   "source": [
    "print(data_alphadigits['dat'].shape) ## shape (36,39) : 36 characters, 39 samples per character\n",
    "print(data_alphadigits['dat'][0][0].shape) ## shape (20,16), the first sample of the first character."
   ]
  },
  {
   "cell_type": "code",
   "execution_count": 7,
   "metadata": {},
   "outputs": [
    {
     "data": {
      "text/plain": [
       "array([array(['0'], dtype='<U1'), array(['1'], dtype='<U1'),\n",
       "       array(['2'], dtype='<U1'), array(['3'], dtype='<U1'),\n",
       "       array(['4'], dtype='<U1'), array(['5'], dtype='<U1'),\n",
       "       array(['6'], dtype='<U1'), array(['7'], dtype='<U1'),\n",
       "       array(['8'], dtype='<U1'), array(['9'], dtype='<U1'),\n",
       "       array(['A'], dtype='<U1'), array(['B'], dtype='<U1'),\n",
       "       array(['C'], dtype='<U1'), array(['D'], dtype='<U1'),\n",
       "       array(['E'], dtype='<U1'), array(['F'], dtype='<U1'),\n",
       "       array(['G'], dtype='<U1'), array(['H'], dtype='<U1'),\n",
       "       array(['I'], dtype='<U1'), array(['J'], dtype='<U1'),\n",
       "       array(['K'], dtype='<U1'), array(['L'], dtype='<U1'),\n",
       "       array(['M'], dtype='<U1'), array(['N'], dtype='<U1'),\n",
       "       array(['O'], dtype='<U1'), array(['P'], dtype='<U1'),\n",
       "       array(['Q'], dtype='<U1'), array(['R'], dtype='<U1'),\n",
       "       array(['S'], dtype='<U1'), array(['T'], dtype='<U1'),\n",
       "       array(['U'], dtype='<U1'), array(['V'], dtype='<U1'),\n",
       "       array(['W'], dtype='<U1'), array(['X'], dtype='<U1'),\n",
       "       array(['Y'], dtype='<U1'), array(['Z'], dtype='<U1')], dtype=object)"
      ]
     },
     "execution_count": 7,
     "metadata": {},
     "output_type": "execute_result"
    }
   ],
   "source": [
    "data_alphadigits['classlabels'] = data_alphadigits['classlabels'].reshape(-1) ## 36 letters\n",
    "data_alphadigits['classlabels']"
   ]
  },
  {
   "cell_type": "code",
   "execution_count": 8,
   "metadata": {},
   "outputs": [
    {
     "data": {
      "image/png": "[encoded data removed]",
      "text/plain": [
       "<Figure size 800x600 with 6 Axes>"
      ]
     },
     "metadata": {},
     "output_type": "display_data"
    }
   ],
   "source": [
    "## visualize the first 6 A\n",
    "fig, ax = plt.subplots(2,3, figsize=(8,6))\n",
    "for i in range(6):\n",
    "    ax[i//3, i%3].imshow(data_alphadigits['dat'][10][i].reshape(20,16), cmap='gray')\n",
    "    ax[i//3, i%3].set_title(data_alphadigits['classlabels'][10])\n",
    "plt.show()"
   ]
  },
  {
   "cell_type": "markdown",
   "metadata": {},
   "source": [
    "#### 1.2- MNIST dataset"
   ]
  },
  {
   "cell_type": "code",
   "execution_count": 49,
   "metadata": {},
   "outputs": [],
   "source": [
    "##We load MNIST dataset from keras, so to have access to images and labels.\n",
    "## We could not access the yann.lecun.com/exdb/mnist/ website, so we used the keras library to load the dataset."
   ]
  },
  {
   "cell_type": "code",
   "execution_count": 50,
   "metadata": {},
   "outputs": [],
   "source": [
    "## Uncomment below to load the mnist dataset from keras\n",
    "# ! pip install keras"
   ]
  },
  {
   "cell_type": "code",
   "execution_count": 9,
   "metadata": {},
   "outputs": [
    {
     "name": "stderr",
     "output_type": "stream",
     "text": [
      "2024-03-17 11:04:10.526742: I external/local_tsl/tsl/cuda/cudart_stub.cc:32] Could not find cuda drivers on your machine, GPU will not be used.\n",
      "2024-03-17 11:04:10.528858: I external/local_tsl/tsl/cuda/cudart_stub.cc:32] Could not find cuda drivers on your machine, GPU will not be used.\n",
      "2024-03-17 11:04:10.556714: I tensorflow/core/platform/cpu_feature_guard.cc:210] This TensorFlow binary is optimized to use available CPU instructions in performance-critical operations.\n",
      "To enable the following instructions: AVX2 FMA, in other operations, rebuild TensorFlow with the appropriate compiler flags.\n",
      "2024-03-17 11:04:11.509986: W tensorflow/compiler/tf2tensorrt/utils/py_utils.cc:38] TF-TRT Warning: Could not find TensorRT\n"
     ]
    }
   ],
   "source": [
    "from keras.datasets import mnist\n",
    "(X_train, y_train), (X_test, y_test)  = mnist.load_data()"
   ]
  },
  {
   "cell_type": "code",
   "execution_count": 10,
   "metadata": {},
   "outputs": [
    {
     "name": "stdout",
     "output_type": "stream",
     "text": [
      "(60000, 28, 28)\n",
      "(60000,)\n",
      "(10000, 28, 28)\n",
      "(10000,)\n"
     ]
    }
   ],
   "source": [
    "print(X_train.shape) ## (60000, 28, 28)\n",
    "print(y_train.shape) ## (60000,)\n",
    "print(X_test.shape) ## (10000, 28, 28)\n",
    "print(y_test.shape) ## (10000,)"
   ]
  },
  {
   "cell_type": "code",
   "execution_count": 11,
   "metadata": {},
   "outputs": [
    {
     "data": {
      "image/png": "[encoded data removed]",
      "text/plain": [
       "<Figure size 1000x400 with 10 Axes>"
      ]
     },
     "metadata": {},
     "output_type": "display_data"
    }
   ],
   "source": [
    "## plot the first 10 digits of the test set\n",
    "\n",
    "def plot_mnist(data, labels):\n",
    "    fig, ax = plt.subplots(2,5)\n",
    "    fig.set_size_inches(10, 4)\n",
    "    for i, axi in enumerate(ax.flat):\n",
    "        # plt.subplot(2, 5, i+1)\n",
    "        axi.imshow(data[i], cmap='gray')\n",
    "        axi.set_xlabel(labels[i], fontsize = 20)\n",
    "    plt.tight_layout()\n",
    "    plt.show()\n",
    "plot_mnist(X_test, y_test)"
   ]
  },
  {
   "cell_type": "markdown",
   "metadata": {},
   "source": [
    "### 2. Useful methods"
   ]
  },
  {
   "cell_type": "markdown",
   "metadata": {},
   "source": [
    "#### 2.1- lire_alpha_digits()"
   ]
  },
  {
   "cell_type": "code",
   "execution_count": 54,
   "metadata": {},
   "outputs": [],
   "source": [
    "# data_alphadigits['classlabels'].flatten().tolist()"
   ]
  },
  {
   "cell_type": "code",
   "execution_count": 12,
   "metadata": {},
   "outputs": [],
   "source": [
    "## Retrieving all the labels/characters\n",
    "char_list_all = []\n",
    "for array in data_alphadigits['classlabels']:\n",
    "    char_list_all.append(array[0])\n"
   ]
  },
  {
   "cell_type": "code",
   "execution_count": 13,
   "metadata": {},
   "outputs": [],
   "source": [
    "def char_to_index(char):\n",
    "    '''\n",
    "    Convert a character to its corresponding index in the dataset\n",
    "    '''\n",
    "    assert char in char_list_all, \"character not in the 36 digits categories\"\n",
    "    return char_list_all.index(char)"
   ]
  },
  {
   "cell_type": "code",
   "execution_count": 14,
   "metadata": {},
   "outputs": [],
   "source": [
    "def lire_alpha_digit(data, char_list):\n",
    "    X = []\n",
    "    y = []\n",
    "    char_list = np.unique([char.upper() for char in char_list])\n",
    "    for char in char_list:\n",
    "        for i in range(39):\n",
    "            X.append(data['dat'][char_to_index(char)][i].reshape(1,-1))\n",
    "        y.append(char)\n",
    "    return np.concatenate(X), np.array(y) ## X.shape (39*n_chars, 320), y.shape (39*n_chars,)"
   ]
  },
  {
   "cell_type": "code",
   "execution_count": 15,
   "metadata": {},
   "outputs": [
    {
     "name": "stdout",
     "output_type": "stream",
     "text": [
      "(156, 320) ['9' 'A' 'B' 'X']\n"
     ]
    }
   ],
   "source": [
    "### Test\n",
    "set_ABC = lire_alpha_digit(data_alphadigits, ['a','x','B','9','b','A'])\n",
    "print(set_ABC[0].shape, set_ABC[1]) "
   ]
  },
  {
   "cell_type": "markdown",
   "metadata": {},
   "source": [
    "#### 2.2- convert_mnist_BW()"
   ]
  },
  {
   "cell_type": "code",
   "execution_count": 16,
   "metadata": {},
   "outputs": [],
   "source": [
    "def convert_mnist_black_white(X, threshold = 127):\n",
    "    '''\n",
    "    Convert a 3D array of mnist images to 3D array of black and white images\n",
    "    '''\n",
    "    X_bw = []\n",
    "    for i in range(X.shape[0]):\n",
    "        X_bw.append(np.where(X[i] > threshold, 1, 0))\n",
    "    return np.stack(X_bw, axis = 0)"
   ]
  },
  {
   "cell_type": "code",
   "execution_count": 17,
   "metadata": {},
   "outputs": [],
   "source": [
    "X_train_bw = convert_mnist_black_white(X_train)\n",
    "X_test_bw = convert_mnist_black_white(X_test)"
   ]
  },
  {
   "cell_type": "code",
   "execution_count": 18,
   "metadata": {},
   "outputs": [
    {
     "data": {
      "image/png": "[encoded data removed]",
      "text/plain": [
       "<Figure size 1000x400 with 10 Axes>"
      ]
     },
     "metadata": {},
     "output_type": "display_data"
    }
   ],
   "source": [
    "plot_mnist(X_test_bw[:10], y_test[:10])"
   ]
  },
  {
   "cell_type": "code",
   "execution_count": 19,
   "metadata": {},
   "outputs": [
    {
     "data": {
      "image/png": "[encoded data removed]",
      "text/plain": [
       "<Figure size 1000x400 with 10 Axes>"
      ]
     },
     "metadata": {},
     "output_type": "display_data"
    }
   ],
   "source": [
    "plot_mnist(X_test[:10], y_test[:10])"
   ]
  },
  {
   "cell_type": "markdown",
   "metadata": {},
   "source": [
    "## 3. Restricted Boltzman Machine (RBM)"
   ]
  },
  {
   "cell_type": "code",
   "execution_count": 20,
   "metadata": {},
   "outputs": [],
   "source": [
    "def init_RBM(input_size, output_size):\n",
    "    '''\n",
    "    Initialize the parameters of the RBM\n",
    "    '''\n",
    "    a = np.zeros((1, input_size))\n",
    "    b = np.zeros((1, output_size))\n",
    "    W = np.random.normal(0, 0.01, (input_size, output_size))\n",
    "    return a, b, W"
   ]
  },
  {
   "cell_type": "code",
   "execution_count": 21,
   "metadata": {},
   "outputs": [],
   "source": [
    "## Test\n",
    "RBM = init_RBM(320, 36)"
   ]
  },
  {
   "cell_type": "code",
   "execution_count": 22,
   "metadata": {},
   "outputs": [],
   "source": [
    "def entree_sortie_RBM(RBM, V):\n",
    "    '''\n",
    "    Compute the output of the RBM\n",
    "    V : input data, visible, shape (n_samples, input_size)\n",
    "    '''\n",
    "    _, b, W = RBM\n",
    "    return 1/(1 + np.exp(-(np.dot(V, W) + b))) ## shape (n_samples, output_size)"
   ]
  },
  {
   "cell_type": "code",
   "execution_count": 23,
   "metadata": {},
   "outputs": [],
   "source": [
    "def sortie_entree_RBM(RBM, H):\n",
    "    '''\n",
    "    Compute the input of the RBM\n",
    "    H : output data, hidden, shape (n_samples, output_size)\n",
    "    '''\n",
    "    a, _, W = RBM\n",
    "    return 1/(1 + np.exp(-(np.dot(H, W.T) + a))) ## shape (n_samples, input_size)"
   ]
  },
  {
   "cell_type": "code",
   "execution_count": null,
   "metadata": {},
   "outputs": [],
   "source": []
  },
  {
   "cell_type": "code",
   "execution_count": 24,
   "metadata": {},
   "outputs": [],
   "source": [
    "def train_RBM(RBM, input_data, n_epochs = 1, lr=1e-3, batch_size =8, verbose = True):\n",
    "    '''\n",
    "    Train the RBM\n",
    "    '''\n",
    "    a, b, W = RBM\n",
    "    loss = []\n",
    "    n_samples = input_data.shape[0]\n",
    "    for epoch in range(n_epochs):\n",
    "        for i in range(0, n_samples//batch_size * batch_size, batch_size):\n",
    "            V = input_data[i:i+batch_size].reshape(batch_size, -1)\n",
    "            H = entree_sortie_RBM(RBM, V)\n",
    "            V_prime = sortie_entree_RBM(RBM, H)\n",
    "            H_prime = entree_sortie_RBM(RBM, V_prime)\n",
    "            a += lr * (V - V_prime).sum(axis = 0)\n",
    "            b += lr * (H - H_prime).sum(axis = 0)\n",
    "            W += lr * (np.dot(V.T, H) - np.dot(V_prime.T, H_prime))\n",
    "            loss.append(((V - V_prime)**2).mean())\n",
    "        if verbose:\n",
    "            print('Epoch %d/%d' % (epoch+1, n_epochs))\n",
    "            print('Loss : %.4f' % loss[-1])\n",
    "    return a, b, W"
   ]
  },
  {
   "cell_type": "code",
   "execution_count": 27,
   "metadata": {},
   "outputs": [
    {
     "name": "stdout",
     "output_type": "stream",
     "text": [
      "(117, 320)\n"
     ]
    }
   ],
   "source": [
    "train_set, _ = lire_alpha_digit(data_alphadigits, ['g','s','p'])\n",
    "\n",
    "print(train_set.shape)\n",
    "## Shuffle  the training set\n",
    "train_set = train_set[np.random.permutation(train_set.shape[0])]"
   ]
  },
  {
   "cell_type": "code",
   "execution_count": 41,
   "metadata": {},
   "outputs": [
    {
     "name": "stdout",
     "output_type": "stream",
     "text": [
      "Epoch 1/100\n",
      "Loss : 0.2283\n",
      "Epoch 2/100\n",
      "Loss : 0.2205\n",
      "Epoch 3/100\n",
      "Loss : 0.2110\n",
      "Epoch 4/100\n",
      "Loss : 0.1935\n",
      "Epoch 5/100\n",
      "Loss : 0.1783\n",
      "Epoch 6/100\n",
      "Loss : 0.1682\n",
      "Epoch 7/100\n",
      "Loss : 0.1608\n",
      "Epoch 8/100\n",
      "Loss : 0.1543\n",
      "Epoch 9/100\n",
      "Loss : 0.1482\n",
      "Epoch 10/100\n",
      "Loss : 0.1423\n",
      "Epoch 11/100\n",
      "Loss : 0.1365\n",
      "Epoch 12/100\n",
      "Loss : 0.1309\n",
      "Epoch 13/100\n",
      "Loss : 0.1256\n",
      "Epoch 14/100\n",
      "Loss : 0.1207\n",
      "Epoch 15/100\n",
      "Loss : 0.1161\n",
      "Epoch 16/100\n",
      "Loss : 0.1118\n",
      "Epoch 17/100\n",
      "Loss : 0.1078\n",
      "Epoch 18/100\n",
      "Loss : 0.1042\n",
      "Epoch 19/100\n",
      "Loss : 0.1009\n",
      "Epoch 20/100\n",
      "Loss : 0.0979\n",
      "Epoch 21/100\n",
      "Loss : 0.0951\n",
      "Epoch 22/100\n",
      "Loss : 0.0925\n",
      "Epoch 23/100\n",
      "Loss : 0.0900\n",
      "Epoch 24/100\n",
      "Loss : 0.0876\n",
      "Epoch 25/100\n",
      "Loss : 0.0853\n",
      "Epoch 26/100\n",
      "Loss : 0.0831\n",
      "Epoch 27/100\n",
      "Loss : 0.0810\n",
      "Epoch 28/100\n",
      "Loss : 0.0788\n",
      "Epoch 29/100\n",
      "Loss : 0.0768\n",
      "Epoch 30/100\n",
      "Loss : 0.0748\n",
      "Epoch 31/100\n",
      "Loss : 0.0729\n",
      "Epoch 32/100\n",
      "Loss : 0.0711\n",
      "Epoch 33/100\n",
      "Loss : 0.0694\n",
      "Epoch 34/100\n",
      "Loss : 0.0677\n",
      "Epoch 35/100\n",
      "Loss : 0.0660\n",
      "Epoch 36/100\n",
      "Loss : 0.0645\n",
      "Epoch 37/100\n",
      "Loss : 0.0629\n",
      "Epoch 38/100\n",
      "Loss : 0.0615\n",
      "Epoch 39/100\n",
      "Loss : 0.0600\n",
      "Epoch 40/100\n",
      "Loss : 0.0586\n",
      "Epoch 41/100\n",
      "Loss : 0.0572\n",
      "Epoch 42/100\n",
      "Loss : 0.0559\n",
      "Epoch 43/100\n",
      "Loss : 0.0545\n",
      "Epoch 44/100\n",
      "Loss : 0.0532\n",
      "Epoch 45/100\n",
      "Loss : 0.0520\n",
      "Epoch 46/100\n",
      "Loss : 0.0507\n",
      "Epoch 47/100\n",
      "Loss : 0.0495\n",
      "Epoch 48/100\n",
      "Loss : 0.0484\n",
      "Epoch 49/100\n",
      "Loss : 0.0473\n",
      "Epoch 50/100\n",
      "Loss : 0.0462\n",
      "Epoch 51/100\n",
      "Loss : 0.0451\n",
      "Epoch 52/100\n",
      "Loss : 0.0440\n",
      "Epoch 53/100\n",
      "Loss : 0.0430\n",
      "Epoch 54/100\n",
      "Loss : 0.0420\n",
      "Epoch 55/100\n",
      "Loss : 0.0410\n",
      "Epoch 56/100\n",
      "Loss : 0.0401\n",
      "Epoch 57/100\n",
      "Loss : 0.0392\n",
      "Epoch 58/100\n",
      "Loss : 0.0384\n",
      "Epoch 59/100\n",
      "Loss : 0.0376\n",
      "Epoch 60/100\n",
      "Loss : 0.0369\n",
      "Epoch 61/100\n",
      "Loss : 0.0361\n",
      "Epoch 62/100\n",
      "Loss : 0.0354\n",
      "Epoch 63/100\n",
      "Loss : 0.0347\n",
      "Epoch 64/100\n",
      "Loss : 0.0340\n",
      "Epoch 65/100\n",
      "Loss : 0.0334\n",
      "Epoch 66/100\n",
      "Loss : 0.0327\n",
      "Epoch 67/100\n",
      "Loss : 0.0321\n",
      "Epoch 68/100\n",
      "Loss : 0.0315\n",
      "Epoch 69/100\n",
      "Loss : 0.0309\n",
      "Epoch 70/100\n",
      "Loss : 0.0303\n",
      "Epoch 71/100\n",
      "Loss : 0.0297\n",
      "Epoch 72/100\n",
      "Loss : 0.0291\n",
      "Epoch 73/100\n",
      "Loss : 0.0286\n",
      "Epoch 74/100\n",
      "Loss : 0.0280\n",
      "Epoch 75/100\n",
      "Loss : 0.0275\n",
      "Epoch 76/100\n",
      "Loss : 0.0270\n",
      "Epoch 77/100\n",
      "Loss : 0.0265\n",
      "Epoch 78/100\n",
      "Loss : 0.0260\n",
      "Epoch 79/100\n",
      "Loss : 0.0255\n",
      "Epoch 80/100\n",
      "Loss : 0.0251\n",
      "Epoch 81/100\n",
      "Loss : 0.0246\n",
      "Epoch 82/100\n",
      "Loss : 0.0241\n",
      "Epoch 83/100\n",
      "Loss : 0.0237\n",
      "Epoch 84/100\n",
      "Loss : 0.0233\n",
      "Epoch 85/100\n",
      "Loss : 0.0228\n",
      "Epoch 86/100\n",
      "Loss : 0.0224\n",
      "Epoch 87/100\n",
      "Loss : 0.0220\n",
      "Epoch 88/100\n",
      "Loss : 0.0216\n",
      "Epoch 89/100\n",
      "Loss : 0.0212\n",
      "Epoch 90/100\n",
      "Loss : 0.0208\n",
      "Epoch 91/100\n",
      "Loss : 0.0204\n",
      "Epoch 92/100\n",
      "Loss : 0.0200\n",
      "Epoch 93/100\n",
      "Loss : 0.0197\n",
      "Epoch 94/100\n",
      "Loss : 0.0193\n",
      "Epoch 95/100\n",
      "Loss : 0.0190\n",
      "Epoch 96/100\n",
      "Loss : 0.0186\n",
      "Epoch 97/100\n",
      "Loss : 0.0183\n",
      "Epoch 98/100\n",
      "Loss : 0.0180\n",
      "Epoch 99/100\n",
      "Loss : 0.0177\n",
      "Epoch 100/100\n",
      "Loss : 0.0174\n"
     ]
    }
   ],
   "source": [
    "RBM = init_RBM(320, 100)\n",
    "trained_RBM = train_RBM(RBM, train_set, n_epochs = 100, lr=1e-2, batch_size =4, verbose = True)"
   ]
  },
  {
   "cell_type": "code",
   "execution_count": 70,
   "metadata": {},
   "outputs": [],
   "source": [
    "### Test \n",
    "## Sample 10 images from the trained RBM"
   ]
  },
  {
   "cell_type": "code",
   "execution_count": 37,
   "metadata": {},
   "outputs": [],
   "source": [
    "def generer_image_RBM(n_iter_gibbs = 10, n_samples=10, trained_RBM = trained_RBM):\n",
    "    '''\n",
    "    Generate images from the trained RBM\n",
    "    '''\n",
    "    a, b, W = trained_RBM\n",
    "    V = np.random.binomial(1, 0.5, (n_samples, a.shape[1])) ## initialize each component of V to bernoulli(0.5)\n",
    "    #print(V)\n",
    "    #plt.imshow(V[0].reshape(20,16), cmap='gray')\n",
    "    for i in range(n_iter_gibbs):\n",
    "        \n",
    "        # This \n",
    "        H = entree_sortie_RBM(trained_RBM, V)\n",
    "        V = sortie_entree_RBM(trained_RBM, H)\n",
    "        \n",
    "        # ## or this\n",
    "        # H = np.random.binomial(1, entree_sortie_RBM(trained_RBM, V))\n",
    "        # V = np.random.binomial(1, sortie_entree_RBM(trained_RBM, H))\n",
    "        \n",
    "        # ## or this \n",
    "        # H = np.array([1 if value >= 0.5 else 0 for row in entree_sortie_RBM(trained_RBM, V) for value in row]).reshape(n_samples, -1)\n",
    "        # V = np.array([1 if value >= 0.5 else 0 for row in sortie_entree_RBM(trained_RBM, H) for value in row]).reshape(n_samples, -1)\n",
    "    V = np.where(V > 0.5, 1, 0)\n",
    "    #plt.imshow(V[0].reshape(20,16), cmap='gray')\n",
    "    return V"
   ]
  },
  {
   "cell_type": "code",
   "execution_count": 30,
   "metadata": {},
   "outputs": [
    {
     "data": {
      "text/plain": [
       "[0, 1, 1]"
      ]
     },
     "execution_count": 30,
     "metadata": {},
     "output_type": "execute_result"
    }
   ],
   "source": [
    "list(map(lambda x : 1 if x >=0.5 else 0, [0.4, 0.5, 0.6]))"
   ]
  },
  {
   "cell_type": "code",
   "execution_count": 42,
   "metadata": {},
   "outputs": [
    {
     "data": {
      "image/png": "[encoded data removed]",
      "text/plain": [
       "<Figure size 1000x400 with 10 Axes>"
      ]
     },
     "metadata": {},
     "output_type": "display_data"
    }
   ],
   "source": [
    "sampled_images = generer_image_RBM(n_iter_gibbs = 10, n_samples=10, trained_RBM = trained_RBM)\n",
    "\n",
    "## Plot the sampled images\n",
    "plot_mnist(sampled_images.reshape(-1,20,16)[:10], np.array(['']*10))"
   ]
  },
  {
   "cell_type": "code",
   "execution_count": 43,
   "metadata": {},
   "outputs": [
    {
     "data": {
      "image/png": "[encoded data removed]",
      "text/plain": [
       "<Figure size 1000x400 with 10 Axes>"
      ]
     },
     "metadata": {},
     "output_type": "display_data"
    }
   ],
   "source": [
    "plot_mnist(train_set[:10].reshape(-1,20,16), np.array(['']*10))"
   ]
  },
  {
   "cell_type": "code",
   "execution_count": 45,
   "metadata": {},
   "outputs": [],
   "source": [
    "## init_DBN\n",
    "def init_DBN(num_layers, input_size, hidden_size):\n",
    "    '''\n",
    "    Initialize the parameters of the DBN\n",
    "    '''\n",
    "    DBN = []\n",
    "    for i in range(num_layers):\n",
    "        if i == 0:\n",
    "            DBN.append(init_RBM(input_size, hidden_size))\n",
    "        else:\n",
    "            DBN.append(init_RBM(hidden_size, hidden_size))\n",
    "    return DBN"
   ]
  },
  {
   "cell_type": "code",
   "execution_count": 46,
   "metadata": {},
   "outputs": [],
   "source": [
    "def train_DBN(DBN, input_data, n_epochs = 1, lr=1e-3, batch_size =8, verbose = True):\n",
    "    '''\n",
    "    Train the DBN\n",
    "    '''\n",
    "    for i, RBM in enumerate(DBN):\n",
    "        print('Training RBM %d/%d' % (i+1, len(DBN)))\n",
    "        RBM = train_RBM(RBM, input_data, n_epochs, lr, batch_size, verbose)\n",
    "        input_data = entree_sortie_RBM(RBM, input_data)\n",
    "    return DBN"
   ]
  },
  {
   "cell_type": "code",
   "execution_count": 64,
   "metadata": {},
   "outputs": [
    {
     "name": "stdout",
     "output_type": "stream",
     "text": [
      "Training RBM 1/6\n",
      "Training RBM 2/6\n",
      "Training RBM 3/6\n",
      "Training RBM 4/6\n",
      "Training RBM 5/6\n",
      "Training RBM 6/6\n"
     ]
    }
   ],
   "source": [
    "## Test on the alpha digits dataset\n",
    "DBN = init_DBN(6, 320, 128)\n",
    "trained_DBN = train_DBN(DBN, train_set, n_epochs = 100, lr=1e-2, batch_size =4, verbose = False)\n"
   ]
  },
  {
   "cell_type": "code",
   "execution_count": 65,
   "metadata": {},
   "outputs": [
    {
     "name": "stdout",
     "output_type": "stream",
     "text": [
      "RBM 1\n",
      "(1, 320) (1, 128) (320, 128)\n",
      "RBM 2\n",
      "(1, 128) (1, 128) (128, 128)\n",
      "RBM 3\n",
      "(1, 128) (1, 128) (128, 128)\n",
      "RBM 4\n",
      "(1, 128) (1, 128) (128, 128)\n",
      "RBM 5\n",
      "(1, 128) (1, 128) (128, 128)\n",
      "RBM 6\n",
      "(1, 128) (1, 128) (128, 128)\n"
     ]
    }
   ],
   "source": [
    "## print the shapes of each layer\n",
    "for i, RBM in enumerate(trained_DBN):\n",
    "    print('RBM %d' % (i+1))\n",
    "    print(RBM[0].shape, RBM[1].shape, RBM[2].shape)"
   ]
  },
  {
   "cell_type": "code",
   "execution_count": 66,
   "metadata": {},
   "outputs": [],
   "source": [
    "## Generate images from the trained DBN using Gibbs sampling\n",
    "def generer_image_DBN(n_iter_gibbs = 10, n_samples=10, trained_DBN = trained_DBN):\n",
    "    '''\n",
    "    Generate images from the trained DBN\n",
    "    '''\n",
    "    V = np.random.binomial(1, 0.5, (n_samples, trained_DBN[0][0].shape[1])) ## initialize each component of V to bernoulli(0.5)\n",
    "    for i in range(n_iter_gibbs):\n",
    "        for j, RBM in enumerate(trained_DBN):\n",
    "            if j == 0:\n",
    "                H = entree_sortie_RBM(RBM, V)\n",
    "            else:\n",
    "                H = entree_sortie_RBM(RBM, H)\n",
    "        for j in range(len(trained_DBN)-1, -1, -1):\n",
    "            if j == len(trained_DBN)-1:\n",
    "                V = sortie_entree_RBM(trained_DBN[j], H)\n",
    "            else:\n",
    "                V = sortie_entree_RBM(trained_DBN[j], V)\n",
    "    print(V.shape)        \n",
    "    V = np.where(V > 0.5, 1, 0)\n",
    "    return V\n",
    "            "
   ]
  },
  {
   "cell_type": "code",
   "execution_count": 73,
   "metadata": {},
   "outputs": [
    {
     "name": "stdout",
     "output_type": "stream",
     "text": [
      "(10, 320)\n"
     ]
    },
    {
     "data": {
      "image/png": "[encoded data removed]",
      "text/plain": [
       "<Figure size 1000x400 with 10 Axes>"
      ]
     },
     "metadata": {},
     "output_type": "display_data"
    }
   ],
   "source": [
    "sampled_images_DBN = generer_image_DBN(n_iter_gibbs = 100, n_samples=10, trained_DBN = trained_DBN)\n",
    "plot_mnist(sampled_images_DBN.reshape(-1,20,16)[:10], np.array(['']*10))"
   ]
  },
  {
   "cell_type": "code",
   "execution_count": 75,
   "metadata": {},
   "outputs": [],
   "source": [
    "### DNN implementation using DBN and classification head with softmax\n",
    "def init_DNN(num_hidden_layers, input_size, hidden_size, output_size):\n",
    "    '''\n",
    "    Initialize the parameters of the DNN\n",
    "    '''\n",
    "    DNN = []\n",
    "    for i in range(num_hidden_layers):\n",
    "        if i == 0:\n",
    "            DNN.append(init_RBM(input_size, hidden_size))\n",
    "        else:\n",
    "            DNN.append(init_RBM(hidden_size, hidden_size))\n",
    "    DNN.append(init_RBM(hidden_size, output_size))\n",
    "    return DNN"
   ]
  },
  {
   "cell_type": "code",
   "execution_count": 76,
   "metadata": {},
   "outputs": [],
   "source": [
    "## Initialize the DNN for classification \n",
    "DNN = init_DNN(4, 320, 128, 36)\n"
   ]
  }
 ],
 "metadata": {
  "kernelspec": {
   "display_name": "Python 3 (ipykernel)",
   "language": "python",
   "name": "python3"
  },
  "language_info": {
   "codemirror_mode": {
    "name": "ipython",
    "version": 3
   },
   "file_extension": ".py",
   "mimetype": "text/x-python",
   "name": "python",
   "nbconvert_exporter": "python",
   "pygments_lexer": "ipython3",
   "version": "3.9.18"
  }
 },
 "nbformat": 4,
 "nbformat_minor": 2
}
