{
 "cells": [
  {
   "cell_type": "code",
   "execution_count": 80,
   "metadata": {},
   "outputs": [],
   "source": [
    "## Import libraries\n",
    "import numpy as np\n",
    "import matplotlib.pyplot as plt\n",
    "from tqdm import tqdm\n",
    "\n",
    "from scipy.io import loadmat\n",
    "np.random.seed(421)"
   ]
  },
  {
   "cell_type": "markdown",
   "metadata": {},
   "source": [
    "### 1. Loading the data"
   ]
  },
  {
   "cell_type": "markdown",
   "metadata": {},
   "source": [
    "#### 1.1- Binary alphadigits"
   ]
  },
  {
   "cell_type": "code",
   "execution_count": 81,
   "metadata": {},
   "outputs": [],
   "source": [
    "## Unzip the data\n",
    "import zipfile\n",
    "\n",
    "with zipfile.ZipFile('data.zip', 'r') as zip_ref:\n",
    "    zip_ref.extractall('.')\n"
   ]
  },
  {
   "cell_type": "code",
   "execution_count": 82,
   "metadata": {},
   "outputs": [],
   "source": [
    "##  AlphaDigits dataset\n",
    "path_AlDi = './data/binaryalphadigs.mat'\n",
    "data_alphadigits = loadmat(path_AlDi) "
   ]
  },
  {
   "cell_type": "code",
   "execution_count": 83,
   "metadata": {},
   "outputs": [
    {
     "data": {
      "text/plain": [
       "dict_keys(['__header__', '__version__', '__globals__', 'dat', 'numclass', 'classlabels', 'classcounts'])"
      ]
     },
     "execution_count": 83,
     "metadata": {},
     "output_type": "execute_result"
    }
   ],
   "source": [
    "data_alphadigits.keys()"
   ]
  },
  {
   "cell_type": "code",
   "execution_count": 84,
   "metadata": {},
   "outputs": [
    {
     "name": "stdout",
     "output_type": "stream",
     "text": [
      "(36, 39)\n",
      "(20, 16)\n"
     ]
    }
   ],
   "source": [
    "print(data_alphadigits['dat'].shape) ## shape (36,39) : 36 characters, 39 samples per character\n",
    "print(data_alphadigits['dat'][0][0].shape) ## shape (20,16), the first sample of the first character."
   ]
  },
  {
   "cell_type": "code",
   "execution_count": 85,
   "metadata": {},
   "outputs": [
    {
     "data": {
      "text/plain": [
       "array([array(['0'], dtype='<U1'), array(['1'], dtype='<U1'),\n",
       "       array(['2'], dtype='<U1'), array(['3'], dtype='<U1'),\n",
       "       array(['4'], dtype='<U1'), array(['5'], dtype='<U1'),\n",
       "       array(['6'], dtype='<U1'), array(['7'], dtype='<U1'),\n",
       "       array(['8'], dtype='<U1'), array(['9'], dtype='<U1'),\n",
       "       array(['A'], dtype='<U1'), array(['B'], dtype='<U1'),\n",
       "       array(['C'], dtype='<U1'), array(['D'], dtype='<U1'),\n",
       "       array(['E'], dtype='<U1'), array(['F'], dtype='<U1'),\n",
       "       array(['G'], dtype='<U1'), array(['H'], dtype='<U1'),\n",
       "       array(['I'], dtype='<U1'), array(['J'], dtype='<U1'),\n",
       "       array(['K'], dtype='<U1'), array(['L'], dtype='<U1'),\n",
       "       array(['M'], dtype='<U1'), array(['N'], dtype='<U1'),\n",
       "       array(['O'], dtype='<U1'), array(['P'], dtype='<U1'),\n",
       "       array(['Q'], dtype='<U1'), array(['R'], dtype='<U1'),\n",
       "       array(['S'], dtype='<U1'), array(['T'], dtype='<U1'),\n",
       "       array(['U'], dtype='<U1'), array(['V'], dtype='<U1'),\n",
       "       array(['W'], dtype='<U1'), array(['X'], dtype='<U1'),\n",
       "       array(['Y'], dtype='<U1'), array(['Z'], dtype='<U1')], dtype=object)"
      ]
     },
     "execution_count": 85,
     "metadata": {},
     "output_type": "execute_result"
    }
   ],
   "source": [
    "data_alphadigits['classlabels'] = data_alphadigits['classlabels'].reshape(-1) ## 36 letters\n",
    "data_alphadigits['classlabels']"
   ]
  },
  {
   "cell_type": "code",
   "execution_count": 86,
   "metadata": {},
   "outputs": [
    {
     "data": {
      "image/png": "[encoded data removed]",
      "text/plain": [
       "<Figure size 800x600 with 6 Axes>"
      ]
     },
     "metadata": {},
     "output_type": "display_data"
    }
   ],
   "source": [
    "## visualize the first 6 A\n",
    "fig, ax = plt.subplots(2,3, figsize=(8,6))\n",
    "for i in range(6):\n",
    "    ax[i//3, i%3].imshow(data_alphadigits['dat'][10][i].reshape(20,16), cmap='gray')\n",
    "    ax[i//3, i%3].set_title(data_alphadigits['classlabels'][10])\n",
    "plt.show()"
   ]
  },
  {
   "cell_type": "markdown",
   "metadata": {},
   "source": [
    "#### 1.2- MNIST dataset"
   ]
  },
  {
   "cell_type": "code",
   "execution_count": 87,
   "metadata": {},
   "outputs": [],
   "source": [
    "##We load MNIST dataset from keras, so to have access to images and labels.\n",
    "## We could not access the yann.lecun.com/exdb/mnist/ website, so we used the keras library to load the dataset."
   ]
  },
  {
   "cell_type": "code",
   "execution_count": 88,
   "metadata": {},
   "outputs": [],
   "source": [
    "## Uncomment below to load the mnist dataset from keras\n",
    "# ! pip install keras"
   ]
  },
  {
   "cell_type": "code",
   "execution_count": 89,
   "metadata": {},
   "outputs": [],
   "source": [
    "from keras.datasets import mnist\n",
    "(X_train, y_train), (X_test, y_test)  = mnist.load_data()"
   ]
  },
  {
   "cell_type": "code",
   "execution_count": 90,
   "metadata": {},
   "outputs": [
    {
     "name": "stdout",
     "output_type": "stream",
     "text": [
      "(60000, 28, 28)\n",
      "(60000,)\n",
      "(10000, 28, 28)\n",
      "(10000,)\n"
     ]
    }
   ],
   "source": [
    "print(X_train.shape) ## (60000, 28, 28)\n",
    "print(y_train.shape) ## (60000,)\n",
    "print(X_test.shape) ## (10000, 28, 28)\n",
    "print(y_test.shape) ## (10000,)"
   ]
  },
  {
   "cell_type": "code",
   "execution_count": null,
   "metadata": {},
   "outputs": [],
   "source": []
  },
  {
   "cell_type": "markdown",
   "metadata": {},
   "source": [
    "#### 1.3- Vizualize a sample"
   ]
  },
  {
   "cell_type": "code",
   "execution_count": 91,
   "metadata": {},
   "outputs": [
    {
     "data": {
      "image/png": "[encoded data removed]",
      "text/plain": [
       "<Figure size 1000x400 with 10 Axes>"
      ]
     },
     "metadata": {},
     "output_type": "display_data"
    }
   ],
   "source": [
    "def plot_mnist(data, labels):\n",
    "    fig, ax = plt.subplots(2,5)\n",
    "    fig.set_size_inches(10, 4)\n",
    "    for i, axi in enumerate(ax.flat):\n",
    "        # plt.subplot(2, 5, i+1)\n",
    "        axi.imshow(data[i], cmap='gray')\n",
    "        axi.set_xlabel(labels[i], fontsize = 20)\n",
    "    plt.tight_layout()\n",
    "    plt.show()\n",
    "plot_mnist(X_test, y_test)"
   ]
  },
  {
   "cell_type": "markdown",
   "metadata": {},
   "source": [
    "### 2. Useful methods"
   ]
  },
  {
   "cell_type": "markdown",
   "metadata": {},
   "source": [
    "#### 2.1- lire_alpha_digits()"
   ]
  },
  {
   "cell_type": "code",
   "execution_count": 92,
   "metadata": {},
   "outputs": [],
   "source": [
    "# data_alphadigits['classlabels'].flatten().tolist()"
   ]
  },
  {
   "cell_type": "code",
   "execution_count": 93,
   "metadata": {},
   "outputs": [],
   "source": [
    "## Retrieving all the labels/characters\n",
    "char_list_all = []\n",
    "for array in data_alphadigits['classlabels']:\n",
    "    char_list_all.append(array[0])\n"
   ]
  },
  {
   "cell_type": "code",
   "execution_count": 94,
   "metadata": {},
   "outputs": [],
   "source": [
    "def char_to_index(char):\n",
    "    '''\n",
    "    Convert a character to its corresponding index in the dataset\n",
    "    '''\n",
    "    assert char in char_list_all, \"character not in the 36 digits categories\"\n",
    "    return char_list_all.index(char)"
   ]
  },
  {
   "cell_type": "code",
   "execution_count": 95,
   "metadata": {},
   "outputs": [],
   "source": [
    "def lire_alpha_digit(data, char_list):\n",
    "    X = []\n",
    "    y = []\n",
    "    char_list = np.unique([char.upper() for char in char_list])\n",
    "    for char in char_list:\n",
    "        for i in range(39):\n",
    "            X.append(data['dat'][char_to_index(char)][i].reshape(1,-1))\n",
    "        y.append(char)\n",
    "    return np.concatenate(X), np.array(y) ## X.shape (39*n_chars, 320), y.shape (39*n_chars,)"
   ]
  },
  {
   "cell_type": "code",
   "execution_count": 96,
   "metadata": {},
   "outputs": [
    {
     "name": "stdout",
     "output_type": "stream",
     "text": [
      "(117, 320) ['A' 'B' 'C']\n"
     ]
    }
   ],
   "source": [
    "### Test\n",
    "set_ABC = lire_alpha_digit(data_alphadigits, ['a','C','B','c','b','A'])\n",
    "print(set_ABC[0].shape, set_ABC[1]) "
   ]
  },
  {
   "cell_type": "markdown",
   "metadata": {},
   "source": [
    "#### 2.2- Convert MNIST to Black & White"
   ]
  },
  {
   "cell_type": "code",
   "execution_count": 97,
   "metadata": {},
   "outputs": [],
   "source": [
    "def convert_mnist_black_white(X, threshold = 127):\n",
    "    '''\n",
    "    Convert a 3D array of mnist images to 3D array of black and white images\n",
    "    '''\n",
    "    X_bw = []\n",
    "    for i in range(X.shape[0]):\n",
    "        X_bw.append(np.where(X[i] > threshold, 1, 0))\n",
    "    return np.stack(X_bw, axis = 0)"
   ]
  },
  {
   "cell_type": "code",
   "execution_count": 98,
   "metadata": {},
   "outputs": [],
   "source": [
    "X_train_bw = convert_mnist_black_white(X_train)\n",
    "X_test_bw = convert_mnist_black_white(X_test)"
   ]
  },
  {
   "cell_type": "code",
   "execution_count": 99,
   "metadata": {},
   "outputs": [
    {
     "data": {
      "image/png": "[encoded data removed]",
      "text/plain": [
       "<Figure size 1000x400 with 10 Axes>"
      ]
     },
     "metadata": {},
     "output_type": "display_data"
    }
   ],
   "source": [
    "## Visualize the original greyscale images\n",
    "plot_mnist(X_test[:10], y_test[:10])"
   ]
  },
  {
   "cell_type": "code",
   "execution_count": 100,
   "metadata": {},
   "outputs": [
    {
     "data": {
      "image/png": "[encoded data removed]",
      "text/plain": [
       "<Figure size 1000x400 with 10 Axes>"
      ]
     },
     "metadata": {},
     "output_type": "display_data"
    }
   ],
   "source": [
    "## And their black and white versions\n",
    "plot_mnist(X_test_bw[:10], y_test[:10])"
   ]
  },
  {
   "cell_type": "markdown",
   "metadata": {},
   "source": [
    "## 3. Restricted Boltzman Machine (RBM)"
   ]
  },
  {
   "cell_type": "markdown",
   "metadata": {},
   "source": [
    "#### 3.1. RBM functions"
   ]
  },
  {
   "cell_type": "code",
   "execution_count": 208,
   "metadata": {},
   "outputs": [],
   "source": [
    "def sigmoid(x):\n",
    "    x = np.clip(x, -500, 500)\n",
    "    return 1/(1 + np.exp(-x))"
   ]
  },
  {
   "cell_type": "code",
   "execution_count": 144,
   "metadata": {},
   "outputs": [],
   "source": [
    "def init_RBM(input_size, output_size):\n",
    "    '''\n",
    "    Initialize the parameters of the RBM\n",
    "    '''\n",
    "    a = np.zeros((1, input_size))\n",
    "    b = np.zeros((1, output_size))\n",
    "    W = np.random.normal(0, 0.01, (input_size, output_size))\n",
    "    return [a, b, W]"
   ]
  },
  {
   "cell_type": "code",
   "execution_count": 209,
   "metadata": {},
   "outputs": [],
   "source": [
    "def entree_sortie_RBM(RBM, V):\n",
    "    '''\n",
    "    Compute the output of the RBM\n",
    "    V : input data, visible, shape (n_samples, input_size)\n",
    "    '''\n",
    "    _, b, W = RBM\n",
    "    ## b : (1, output_size); W : (input_size, output_size)\n",
    "    return sigmoid(np.dot(V, W) + b) ## shape (n_samples, output_size)"
   ]
  },
  {
   "cell_type": "code",
   "execution_count": 210,
   "metadata": {},
   "outputs": [],
   "source": [
    "def sortie_entree_RBM(RBM, H):\n",
    "    '''\n",
    "    Compute the input of the RBM\n",
    "    H : output data, hidden, shape (n_samples, output_size)\n",
    "    '''\n",
    "    a, _, W = RBM\n",
    "    return sigmoid(np.dot(H, W.T) + a) ## shape (n_samples, input_size)"
   ]
  },
  {
   "cell_type": "code",
   "execution_count": 147,
   "metadata": {},
   "outputs": [],
   "source": [
    "def train_RBM(RBM, input_data, n_epochs = 1, lr=1e-3, batch_size =8, verbose = True):\n",
    "    '''\n",
    "    Train the RBM\n",
    "    '''\n",
    "    a, b, W = RBM\n",
    "    losses = []\n",
    "    \n",
    "    n_samples = input_data.shape[0] // batch_size * batch_size\n",
    "    for epoch in tqdm(range(n_epochs)):\n",
    "        current_loss = 0\n",
    "        for i in range(0, n_samples, batch_size): ## drop_last = True\n",
    "            V = input_data[i:i+batch_size].reshape(batch_size, -1) ## (B, input_size)\n",
    "            H = entree_sortie_RBM(RBM, V) ## (B, output_size)\n",
    "            V_prime = sortie_entree_RBM(RBM, H) ## (B, input_size)\n",
    "            H_prime = entree_sortie_RBM(RBM, V_prime) ## (B, output_size)\n",
    "            a += lr * (V - V_prime).mean(axis = 0)\n",
    "            b += lr * (H - H_prime).mean(axis = 0)\n",
    "            W += lr * (np.dot(V.T, H) - np.dot(V_prime.T, H_prime))\n",
    "            current_loss += ((V - V_prime)**2).mean(axis = 1).sum()\n",
    "        current_loss /= n_samples\n",
    "        losses.append(current_loss)  \n",
    "        if verbose:\n",
    "            print('Epoch %d/%d' % (epoch+1, n_epochs))\n",
    "            print('Loss : %.4f' % current_loss)\n",
    "    return RBM, losses"
   ]
  },
  {
   "cell_type": "code",
   "execution_count": 328,
   "metadata": {},
   "outputs": [],
   "source": [
    "def generer_image_RBM(trained_RBM, n_iter_gibbs = 10, n_samples=10):\n",
    "    '''\n",
    "    Generate images from the trained RBM\n",
    "    '''\n",
    "    V = np.random.binomial(1, 0.5, (n_samples, trained_RBM[0].shape[1])) ## initialize each component of V to bernoulli(0.5)\n",
    "    #print(V)\n",
    "    #plt.imshow(V[0].reshape(20,16), cmap='gray')\n",
    "    for _ in range(n_iter_gibbs):\n",
    "        \n",
    "        # This \n",
    "        H = entree_sortie_RBM(trained_RBM, V)\n",
    "        V = sortie_entree_RBM(trained_RBM, H)\n",
    "        \n",
    "        # ## or this\n",
    "        # H = np.random.binomial(1, entree_sortie_RBM(trained_RBM, V))\n",
    "        # V = np.random.binomial(1, sortie_entree_RBM(trained_RBM, H))\n",
    "        \n",
    "        # ## or this \n",
    "        # H = np.array([1 if value >= 0.5 else 0 for row in entree_sortie_RBM(trained_RBM, V) for value in row]).reshape(n_samples, -1)\n",
    "        # V = np.array([1 if value >= 0.5 else 0 for row in sortie_entree_RBM(trained_RBM, H) for value in row]).reshape(n_samples, -1)\n",
    "    V = np.where(V > 0.5, 1, 0)\n",
    "    #plt.imshow(V[0].reshape(20,16), cmap='gray')\n",
    "    return V"
   ]
  },
  {
   "cell_type": "code",
   "execution_count": 149,
   "metadata": {},
   "outputs": [],
   "source": [
    "## Plot the reconstruction loss\n",
    "def plot_loss(loss):\n",
    "    plt.plot(loss)\n",
    "    plt.xlabel('Epochs')\n",
    "    plt.ylabel('Reconstruction Loss')\n",
    "    plt.title('Reconstruction Loss over epochs')\n",
    "    plt.show()"
   ]
  },
  {
   "cell_type": "markdown",
   "metadata": {},
   "source": [
    "#### 3.2. Testing everything"
   ]
  },
  {
   "cell_type": "code",
   "execution_count": 323,
   "metadata": {},
   "outputs": [
    {
     "name": "stdout",
     "output_type": "stream",
     "text": [
      "(234, 320)\n"
     ]
    }
   ],
   "source": [
    "## Define a subset for training\n",
    "train_set, _ = lire_alpha_digit(data_alphadigits, ['a','b','c','d','e','f'])\n",
    "print(train_set.shape)\n",
    "## Shuffle  the training set\n",
    "train_set = train_set[np.random.permutation(train_set.shape[0])]"
   ]
  },
  {
   "cell_type": "code",
   "execution_count": 330,
   "metadata": {},
   "outputs": [],
   "source": [
    "## Initialize the RBM\n",
    "RBM = init_RBM(320, 100)"
   ]
  },
  {
   "cell_type": "code",
   "execution_count": 331,
   "metadata": {},
   "outputs": [
    {
     "name": "stderr",
     "output_type": "stream",
     "text": [
      "100%|██████████| 1000/1000 [00:13<00:00, 73.48it/s]\n"
     ]
    }
   ],
   "source": [
    "## Train the RBM\n",
    "_, losses = train_RBM(RBM, train_set, n_epochs = 1000, lr=1e-3, batch_size =4, verbose = False)"
   ]
  },
  {
   "cell_type": "code",
   "execution_count": 332,
   "metadata": {},
   "outputs": [
    {
     "data": {
      "image/png": "[encoded data removed]",
      "text/plain": [
       "<Figure size 640x480 with 1 Axes>"
      ]
     },
     "metadata": {},
     "output_type": "display_data"
    }
   ],
   "source": [
    "## Plot the loss\n",
    "plot_loss(losses)"
   ]
  },
  {
   "cell_type": "code",
   "execution_count": 333,
   "metadata": {},
   "outputs": [
    {
     "data": {
      "image/png": "[encoded data removed]",
      "text/plain": [
       "<Figure size 1000x400 with 10 Axes>"
      ]
     },
     "metadata": {},
     "output_type": "display_data"
    }
   ],
   "source": [
    "sampled_images = generer_image_RBM(RBM, n_iter_gibbs = 300, n_samples=10)\n",
    "\n",
    "## Plot the sampled images\n",
    "plot_mnist(sampled_images.reshape(-1,20,16)[:10], np.array(['']*10))"
   ]
  },
  {
   "cell_type": "code",
   "execution_count": 334,
   "metadata": {},
   "outputs": [
    {
     "data": {
      "image/png": "[encoded data removed]",
      "text/plain": [
       "<Figure size 1000x400 with 10 Axes>"
      ]
     },
     "metadata": {},
     "output_type": "display_data"
    }
   ],
   "source": [
    "## Plot true images from the training set\n",
    "plot_mnist(train_set[:10].reshape(-1,20,16), np.array(['']*10))"
   ]
  },
  {
   "cell_type": "markdown",
   "metadata": {},
   "source": [
    "## 4. Deep Belief Networks (DBN)"
   ]
  },
  {
   "cell_type": "code",
   "execution_count": 335,
   "metadata": {},
   "outputs": [],
   "source": [
    "## init_DBN\n",
    "def init_DBN(num_layers, input_size, hidden_size):\n",
    "    '''\n",
    "    Initialize the parameters of the DBN\n",
    "    '''\n",
    "    DBN = []\n",
    "    for i in range(num_layers):\n",
    "        if i == 0:\n",
    "            DBN.append(init_RBM(input_size, hidden_size))\n",
    "        else:\n",
    "            DBN.append(init_RBM(hidden_size, hidden_size))\n",
    "    return DBN"
   ]
  },
  {
   "cell_type": "code",
   "execution_count": 336,
   "metadata": {},
   "outputs": [],
   "source": [
    "def train_DBN(DBN, input_data, n_epochs = 1, lr=1e-3, batch_size =8, verbose = True):\n",
    "    '''\n",
    "    Train the DBN using the greedy layer-wise strategy\n",
    "    '''\n",
    "    losses = []\n",
    "    for i, RBM in enumerate(DBN):\n",
    "        print('Training RBM %d/%d' % (i+1, len(DBN)))\n",
    "        RBM, loss = train_RBM(RBM, input_data, n_epochs, lr, batch_size, verbose)\n",
    "        input_data = entree_sortie_RBM(RBM, input_data)\n",
    "        losses.append(loss)\n",
    "    losses = np.stack(losses, axis = 0)\n",
    "    return DBN, losses"
   ]
  },
  {
   "cell_type": "code",
   "execution_count": 358,
   "metadata": {},
   "outputs": [
    {
     "name": "stdout",
     "output_type": "stream",
     "text": [
      "Training RBM 1/5\n"
     ]
    },
    {
     "name": "stderr",
     "output_type": "stream",
     "text": [
      "100%|██████████| 1000/1000 [00:21<00:00, 47.56it/s]\n"
     ]
    },
    {
     "name": "stdout",
     "output_type": "stream",
     "text": [
      "Training RBM 2/5\n"
     ]
    },
    {
     "name": "stderr",
     "output_type": "stream",
     "text": [
      "100%|██████████| 1000/1000 [00:15<00:00, 65.62it/s]\n"
     ]
    },
    {
     "name": "stdout",
     "output_type": "stream",
     "text": [
      "Training RBM 3/5\n"
     ]
    },
    {
     "name": "stderr",
     "output_type": "stream",
     "text": [
      "100%|██████████| 1000/1000 [00:14<00:00, 66.69it/s]\n"
     ]
    },
    {
     "name": "stdout",
     "output_type": "stream",
     "text": [
      "Training RBM 4/5\n"
     ]
    },
    {
     "name": "stderr",
     "output_type": "stream",
     "text": [
      "100%|██████████| 1000/1000 [00:14<00:00, 67.32it/s]\n"
     ]
    },
    {
     "name": "stdout",
     "output_type": "stream",
     "text": [
      "Training RBM 5/5\n"
     ]
    },
    {
     "name": "stderr",
     "output_type": "stream",
     "text": [
      "100%|██████████| 1000/1000 [00:14<00:00, 68.11it/s]\n"
     ]
    }
   ],
   "source": [
    "## Test on the alpha digits dataset\n",
    "DBN = init_DBN(5, 320, 200)\n",
    "trained_DBN, losses_DBN = train_DBN(DBN, train_set, n_epochs = 1000, lr=1e-2, batch_size =4, verbose = False)\n"
   ]
  },
  {
   "cell_type": "code",
   "execution_count": 359,
   "metadata": {},
   "outputs": [],
   "source": [
    "## Plot the loss curves of the DBN on the same plot\n",
    "def plot_loss_DBN(losses_DBN):\n",
    "    for i, loss in enumerate(losses_DBN):\n",
    "        plt.plot(loss, label = 'RBM %d' % (i+1))\n",
    "    plt.xlabel('Epochs')\n",
    "    plt.ylabel('Reconstruction Loss')\n",
    "    plt.title('Reconstruction Loss over epochs')\n",
    "    plt.legend()\n",
    "    plt.show()"
   ]
  },
  {
   "cell_type": "code",
   "execution_count": 360,
   "metadata": {},
   "outputs": [
    {
     "data": {
      "image/png": "[encoded data removed]",
      "text/plain": [
       "<Figure size 640x480 with 1 Axes>"
      ]
     },
     "metadata": {},
     "output_type": "display_data"
    }
   ],
   "source": [
    "plot_loss_DBN(losses_DBN)"
   ]
  },
  {
   "cell_type": "code",
   "execution_count": 361,
   "metadata": {},
   "outputs": [
    {
     "name": "stdout",
     "output_type": "stream",
     "text": [
      "RBM 1\n",
      "(1, 320) (1, 200) (320, 200)\n",
      "RBM 2\n",
      "(1, 200) (1, 200) (200, 200)\n",
      "RBM 3\n",
      "(1, 200) (1, 200) (200, 200)\n",
      "RBM 4\n",
      "(1, 200) (1, 200) (200, 200)\n",
      "RBM 5\n",
      "(1, 200) (1, 200) (200, 200)\n"
     ]
    }
   ],
   "source": [
    "## print the model\n",
    "for i, RBM in enumerate(trained_DBN):\n",
    "    print('RBM %d' % (i+1))\n",
    "    print(RBM[0].shape, RBM[1].shape, RBM[2].shape)"
   ]
  },
  {
   "cell_type": "code",
   "execution_count": 119,
   "metadata": {},
   "outputs": [],
   "source": [
    "# ## Visualize the loss in the DBN\n",
    "# for i, loss in enumerate(losses_DBN):\n",
    "#     print('RBM %d' % (i+1))\n",
    "#     plot_loss(loss)\n",
    "    "
   ]
  },
  {
   "cell_type": "code",
   "execution_count": 362,
   "metadata": {},
   "outputs": [],
   "source": [
    "## Generate images from the trained DBN using Gibbs sampling\n",
    "def generer_image_DBN(n_iter_gibbs = 10, n_samples=10, trained_DBN = trained_DBN):\n",
    "    '''\n",
    "    Generate images from the trained DBN\n",
    "    '''\n",
    "    L = len(trained_DBN) ## number of layers\n",
    "    ## We first sample from the last layer\n",
    "    V = np.random.binomial(1, 0.5, (n_samples, trained_DBN[0][0].shape[1])) \n",
    "    for _ in range(n_iter_gibbs):\n",
    "        \n",
    "        for l in range(L):\n",
    "            #print(l)\n",
    "            prob_h = entree_sortie_RBM(trained_DBN[l], V)\n",
    "            V = np.random.binomial(1, prob_h)\n",
    "        for l in range(L-1, -1, -1):\n",
    "            prob_v = sortie_entree_RBM(trained_DBN[l], V)\n",
    "            V = np.random.binomial(1, prob_v)\n",
    "            \n",
    "    \n",
    "    # V = np.random.binomial(1, V) ## (n_samples, input_size)\n",
    "    # V = np.where(V > 0.5, 1, 0)\n",
    "    return V\n",
    "            "
   ]
  },
  {
   "cell_type": "code",
   "execution_count": null,
   "metadata": {},
   "outputs": [],
   "source": []
  },
  {
   "cell_type": "code",
   "execution_count": 368,
   "metadata": {},
   "outputs": [
    {
     "data": {
      "image/png": "[encoded data removed]",
      "text/plain": [
       "<Figure size 1000x400 with 10 Axes>"
      ]
     },
     "metadata": {},
     "output_type": "display_data"
    }
   ],
   "source": [
    "sampled_images_DBN = generer_image_DBN(n_iter_gibbs = 50, n_samples=10, trained_DBN = trained_DBN)\n",
    "plot_mnist(sampled_images_DBN.reshape(-1,20,16)[:10], np.array(['']*10))"
   ]
  },
  {
   "cell_type": "code",
   "execution_count": null,
   "metadata": {},
   "outputs": [],
   "source": []
  },
  {
   "cell_type": "markdown",
   "metadata": {},
   "source": [
    "## 5. Deep Neural Networks (DNN)"
   ]
  },
  {
   "cell_type": "code",
   "execution_count": 369,
   "metadata": {},
   "outputs": [],
   "source": [
    "### DNN implementation using DBN and classification head with softmax\n",
    "def init_DNN(num_hidden_layers, input_size, hidden_size, output_size):\n",
    "    '''\n",
    "    Initialize the parameters of the DNN\n",
    "    '''\n",
    "    DNN = {}\n",
    "    DNN['DBN'] = init_DBN(num_hidden_layers, input_size, hidden_size)\n",
    "    ## Add the classification head\n",
    "    DNN['head'] = init_RBM(hidden_size, output_size)\n",
    "    \n",
    "    return DNN"
   ]
  },
  {
   "cell_type": "code",
   "execution_count": 371,
   "metadata": {},
   "outputs": [],
   "source": [
    "## Initialize the DNN for classification \n",
    "DNN = init_DNN(5, 320, 128, 36)\n"
   ]
  },
  {
   "cell_type": "code",
   "execution_count": 372,
   "metadata": {},
   "outputs": [],
   "source": [
    "def pretrain_DNN(DNN, input_data, n_epochs = 1, lr=1e-3, batch_size =8, verbose = True):\n",
    "    '''\n",
    "    Pretrain the DBM module of the DNN using greedy layer-wise strategy\n",
    "    We reuse the train_DBN function\n",
    "    '''\n",
    "    DNN['DBN'], _ = train_DBN(DNN['DBN'], input_data, n_epochs, lr, batch_size, verbose)\n",
    "    \n",
    "    return DNN\n",
    "    \n",
    "    "
   ]
  },
  {
   "cell_type": "code",
   "execution_count": 396,
   "metadata": {},
   "outputs": [],
   "source": [
    "def calcul_softmax(RBM, X):\n",
    "    '''\n",
    "    Compute the class probabilities of X using the softmax function\n",
    "    X : (n_samples, input_size)\n",
    "    output : (n_samples, output_size)\n",
    "    '''\n",
    "    _, b, W = RBM\n",
    "    out = np.exp(np.dot(X, W) + b)\n",
    "    out = out / out.sum(axis = 1, keepdims = True)\n",
    "    return out"
   ]
  },
  {
   "cell_type": "code",
   "execution_count": 169,
   "metadata": {},
   "outputs": [],
   "source": [
    "def relu(x):\n",
    "    return np.maximum(0, x)"
   ]
  },
  {
   "cell_type": "code",
   "execution_count": 187,
   "metadata": {},
   "outputs": [],
   "source": [
    "def entree_sortie_reseau(DNN, input_data):\n",
    "    '''\n",
    "    Compute the output of the DNN at each layer and store them in a list\n",
    "    '''\n",
    "    L = len(DNN['DBN']) ## number of hidden layers\n",
    "    outs = [input_data]\n",
    "    for i in range(L):\n",
    "        outs.append(entree_sortie_RBM(DNN['DBN'][i], outs[i]))\n",
    "    outs.append(calcul_softmax(DNN['head'], outs[L]))\n",
    "    return outs ## list of length L+1"
   ]
  },
  {
   "cell_type": "code",
   "execution_count": null,
   "metadata": {},
   "outputs": [],
   "source": []
  },
  {
   "cell_type": "code",
   "execution_count": 414,
   "metadata": {},
   "outputs": [],
   "source": [
    "def retropropagation(DNN, input_data, labels, n_epochs, lr, batch_size):\n",
    "    '''\n",
    "    Train the DNN using backpropagation\n",
    "    '''\n",
    "    losses = []\n",
    "    num_layers = len(DNN['DBN'])\n",
    "    n_samples = input_data.shape[0] // batch_size * batch_size\n",
    "    for epoch in tqdm(range(n_epochs)):\n",
    "        current_loss = 0\n",
    "        for i in range(0, n_samples, batch_size): ## drop_last == True\n",
    "            X = input_data[i:i+batch_size].reshape(batch_size, -1) ## (B, input_size)\n",
    "            Y = labels[i:i+batch_size] ## (B,)\n",
    "            ## Forward pass\n",
    "            outs = entree_sortie_reseau(DNN, X) ## length L+2\n",
    "            ## Compute the cross-entropy loss\n",
    "            loss = -np.log(outs[-1][np.arange(batch_size), Y]).mean()\n",
    "            current_loss += loss*batch_size\n",
    "            \n",
    "            ## BACKWARD PASS :\n",
    "            \n",
    "            ### Optimizer.zero_grad()\n",
    "            dWs = []\n",
    "            dbs = []\n",
    "            dXs = []\n",
    "            \n",
    "            ###  loss.backward()\n",
    "            ## gradient of the loss w.r.t the logits of the classification head\n",
    "            dX = outs[-1] ## Y_pred : (B, output_size)\n",
    "            dX[np.arange(batch_size), Y] -= 1 ## d_loss/d_ZL = Y_pred - Y : (B, output_size)\n",
    "            dXs.append(dX) \n",
    "\n",
    "            ## gradient of the loss w.r.t the parameters and the input of the classification head\n",
    "            dW = np.dot(outs[-2].T, dX) / batch_size\n",
    "            dWs.append(dW)\n",
    "            db = dX.mean(axis = 0)\n",
    "            dbs.append(db)\n",
    "            dX = np.dot(dX, DNN['head'][2].T)\n",
    "            dXs.append(dX)\n",
    "            ## The layers of the DBN\n",
    "            for layer in range(len(DNN['DBN'])-1, -1, -1):\n",
    "                dX = dXs[-1]\n",
    "                dW = np.dot(outs[layer].T, dX) / batch_size\n",
    "                db = dX.mean(axis = 0)\n",
    "                dX = np.dot(dX, DNN['DBN'][layer][2].T)\n",
    "                dXs.append(dX)\n",
    "                dWs.append(dW)\n",
    "                dbs.append(db)\n",
    "            \n",
    "            assert len(dWs) == len(dbs) == num_layers + 1, \"The number of weights and biases gradients is incorrect\"\n",
    "            assert len(dXs) == num_layers + 2, \"The number of inputs gradients is incorrect\"\n",
    "            \n",
    "            ## Update the parameters. Optimizer.step()\n",
    "            ## The layers of the DBN\n",
    "            for layer in range(len(DNN['DBN'])):\n",
    "                # print(layer)\n",
    "                # print(DNN['DBN'][layer][2].shape, dWs[len(DNN['DBN']) - layer].shape)\n",
    "                DNN['DBN'][layer][1] -= lr * dbs[len(DNN['DBN']) - layer]\n",
    "                DNN['DBN'][layer][2] -= lr * dWs[len(DNN['DBN']) - layer]\n",
    "            ## The classification head\n",
    "            DNN['head'][1] -= lr * dbs[0]\n",
    "            DNN['head'][2] -= lr * dWs[0]\n",
    "\n",
    "            \n",
    "        current_loss /= n_samples\n",
    "        losses.append(current_loss)\n",
    "        print('Epoch %d/%d' % (epoch+1, n_epochs))\n",
    "        print('Loss : %.4f' % current_loss)\n",
    "    return DNN, losses\n",
    "            \n",
    "            \n",
    "            \n",
    "            \n",
    "            \n",
    "            \n",
    "            \n",
    "            "
   ]
  },
  {
   "cell_type": "code",
   "execution_count": 398,
   "metadata": {},
   "outputs": [],
   "source": [
    "## Testing the DNN on the MNIST dataset\n",
    "indices = np.random.permutation(X_train_bw.shape[0])\n",
    "X_train_bw = X_train_bw[indices]\n",
    "y_train = y_train[indices]\n",
    "X_train_bw = X_train_bw.reshape(X_train_bw.shape[0], -1)\n",
    "X_test_bw = X_test_bw.reshape(X_test_bw.shape[0], -1)\n"
   ]
  },
  {
   "cell_type": "code",
   "execution_count": 491,
   "metadata": {},
   "outputs": [],
   "source": [
    "DNN = init_DNN(4, 784, 128, 10)\n"
   ]
  },
  {
   "cell_type": "code",
   "execution_count": 476,
   "metadata": {},
   "outputs": [
    {
     "name": "stdout",
     "output_type": "stream",
     "text": [
      "Training RBM 1/4\n"
     ]
    },
    {
     "name": "stderr",
     "output_type": "stream",
     "text": [
      "100%|██████████| 200/200 [07:42<00:00,  2.31s/it]\n"
     ]
    },
    {
     "name": "stdout",
     "output_type": "stream",
     "text": [
      "Training RBM 2/4\n"
     ]
    },
    {
     "name": "stderr",
     "output_type": "stream",
     "text": [
      "100%|██████████| 200/200 [02:17<00:00,  1.45it/s]\n"
     ]
    },
    {
     "name": "stdout",
     "output_type": "stream",
     "text": [
      "Training RBM 3/4\n"
     ]
    },
    {
     "name": "stderr",
     "output_type": "stream",
     "text": [
      "100%|██████████| 200/200 [02:17<00:00,  1.45it/s]\n"
     ]
    },
    {
     "name": "stdout",
     "output_type": "stream",
     "text": [
      "Training RBM 4/4\n"
     ]
    },
    {
     "name": "stderr",
     "output_type": "stream",
     "text": [
      "100%|██████████| 200/200 [02:16<00:00,  1.47it/s]\n"
     ]
    }
   ],
   "source": [
    "DNN = pretrain_DNN(DNN, X_train_bw, n_epochs = 200, lr=1e-2, batch_size = 64, verbose = False)"
   ]
  },
  {
   "cell_type": "code",
   "execution_count": 493,
   "metadata": {},
   "outputs": [],
   "source": [
    "## Generate images from the trained DNN using Gibbs sampling\n",
    "sampled_images_DNN = generer_image_DBN(n_iter_gibbs = 20, n_samples=10, trained_DBN = DNN['DBN'])"
   ]
  },
  {
   "cell_type": "code",
   "execution_count": 494,
   "metadata": {},
   "outputs": [
    {
     "data": {
      "image/png": "[encoded data removed]",
      "text/plain": [
       "<Figure size 1000x400 with 10 Axes>"
      ]
     },
     "metadata": {},
     "output_type": "display_data"
    }
   ],
   "source": [
    "## Plot the sampled images\n",
    "plot_mnist(sampled_images_DNN.reshape(-1,28,28)[:10], np.array(['']*10))"
   ]
  },
  {
   "cell_type": "code",
   "execution_count": 434,
   "metadata": {},
   "outputs": [],
   "source": [
    "## testing on MNIST \n",
    "## Convert the labels to integers\n",
    "y_train = y_train.astype(int)\n",
    "y_test = y_test.astype(int)\n",
    "\n"
   ]
  },
  {
   "cell_type": "code",
   "execution_count": 508,
   "metadata": {},
   "outputs": [
    {
     "name": "stderr",
     "output_type": "stream",
     "text": [
      "  2%|▏         | 1/50 [00:01<01:32,  1.88s/it]"
     ]
    },
    {
     "name": "stdout",
     "output_type": "stream",
     "text": [
      "Epoch 1/50\n",
      "Loss : 2.3015\n"
     ]
    },
    {
     "name": "stderr",
     "output_type": "stream",
     "text": [
      "  4%|▍         | 2/50 [00:04<01:41,  2.12s/it]"
     ]
    },
    {
     "name": "stdout",
     "output_type": "stream",
     "text": [
      "Epoch 2/50\n",
      "Loss : 2.3014\n"
     ]
    },
    {
     "name": "stderr",
     "output_type": "stream",
     "text": [
      "  6%|▌         | 3/50 [00:06<01:40,  2.15s/it]"
     ]
    },
    {
     "name": "stdout",
     "output_type": "stream",
     "text": [
      "Epoch 3/50\n",
      "Loss : 2.3014\n"
     ]
    },
    {
     "name": "stderr",
     "output_type": "stream",
     "text": [
      "  8%|▊         | 4/50 [00:08<01:36,  2.10s/it]"
     ]
    },
    {
     "name": "stdout",
     "output_type": "stream",
     "text": [
      "Epoch 4/50\n",
      "Loss : 2.3013\n"
     ]
    },
    {
     "name": "stderr",
     "output_type": "stream",
     "text": [
      " 10%|█         | 5/50 [00:10<01:34,  2.10s/it]"
     ]
    },
    {
     "name": "stdout",
     "output_type": "stream",
     "text": [
      "Epoch 5/50\n",
      "Loss : 2.3013\n"
     ]
    },
    {
     "name": "stderr",
     "output_type": "stream",
     "text": [
      " 12%|█▏        | 6/50 [00:12<01:32,  2.11s/it]"
     ]
    },
    {
     "name": "stdout",
     "output_type": "stream",
     "text": [
      "Epoch 6/50\n",
      "Loss : 2.3013\n"
     ]
    },
    {
     "name": "stderr",
     "output_type": "stream",
     "text": [
      " 14%|█▍        | 7/50 [00:14<01:29,  2.09s/it]"
     ]
    },
    {
     "name": "stdout",
     "output_type": "stream",
     "text": [
      "Epoch 7/50\n",
      "Loss : 2.3013\n"
     ]
    },
    {
     "name": "stderr",
     "output_type": "stream",
     "text": [
      " 16%|█▌        | 8/50 [00:16<01:23,  1.99s/it]"
     ]
    },
    {
     "name": "stdout",
     "output_type": "stream",
     "text": [
      "Epoch 8/50\n",
      "Loss : 2.3012\n"
     ]
    },
    {
     "name": "stderr",
     "output_type": "stream",
     "text": [
      " 18%|█▊        | 9/50 [00:18<01:22,  2.02s/it]"
     ]
    },
    {
     "name": "stdout",
     "output_type": "stream",
     "text": [
      "Epoch 9/50\n",
      "Loss : 2.3012\n"
     ]
    },
    {
     "name": "stderr",
     "output_type": "stream",
     "text": [
      " 20%|██        | 10/50 [00:20<01:18,  1.97s/it]"
     ]
    },
    {
     "name": "stdout",
     "output_type": "stream",
     "text": [
      "Epoch 10/50\n",
      "Loss : 2.3012\n"
     ]
    },
    {
     "name": "stderr",
     "output_type": "stream",
     "text": [
      " 22%|██▏       | 11/50 [00:22<01:15,  1.95s/it]"
     ]
    },
    {
     "name": "stdout",
     "output_type": "stream",
     "text": [
      "Epoch 11/50\n",
      "Loss : 2.3012\n"
     ]
    },
    {
     "name": "stderr",
     "output_type": "stream",
     "text": [
      " 24%|██▍       | 12/50 [00:24<01:14,  1.96s/it]"
     ]
    },
    {
     "name": "stdout",
     "output_type": "stream",
     "text": [
      "Epoch 12/50\n",
      "Loss : 2.3012\n"
     ]
    },
    {
     "name": "stderr",
     "output_type": "stream",
     "text": [
      " 26%|██▌       | 13/50 [00:26<01:11,  1.92s/it]"
     ]
    },
    {
     "name": "stdout",
     "output_type": "stream",
     "text": [
      "Epoch 13/50\n",
      "Loss : 2.3012\n"
     ]
    },
    {
     "name": "stderr",
     "output_type": "stream",
     "text": [
      " 28%|██▊       | 14/50 [00:28<01:09,  1.92s/it]"
     ]
    },
    {
     "name": "stdout",
     "output_type": "stream",
     "text": [
      "Epoch 14/50\n",
      "Loss : 2.3012\n"
     ]
    },
    {
     "name": "stderr",
     "output_type": "stream",
     "text": [
      " 30%|███       | 15/50 [00:29<01:06,  1.91s/it]"
     ]
    },
    {
     "name": "stdout",
     "output_type": "stream",
     "text": [
      "Epoch 15/50\n",
      "Loss : 2.3012\n"
     ]
    },
    {
     "name": "stderr",
     "output_type": "stream",
     "text": [
      " 32%|███▏      | 16/50 [00:31<01:05,  1.94s/it]"
     ]
    },
    {
     "name": "stdout",
     "output_type": "stream",
     "text": [
      "Epoch 16/50\n",
      "Loss : 2.3012\n"
     ]
    },
    {
     "name": "stderr",
     "output_type": "stream",
     "text": [
      " 34%|███▍      | 17/50 [00:33<01:02,  1.90s/it]"
     ]
    },
    {
     "name": "stdout",
     "output_type": "stream",
     "text": [
      "Epoch 17/50\n",
      "Loss : 2.3012\n"
     ]
    },
    {
     "name": "stderr",
     "output_type": "stream",
     "text": [
      " 36%|███▌      | 18/50 [00:35<01:00,  1.90s/it]"
     ]
    },
    {
     "name": "stdout",
     "output_type": "stream",
     "text": [
      "Epoch 18/50\n",
      "Loss : 2.3012\n"
     ]
    },
    {
     "name": "stderr",
     "output_type": "stream",
     "text": [
      " 38%|███▊      | 19/50 [00:37<00:58,  1.90s/it]"
     ]
    },
    {
     "name": "stdout",
     "output_type": "stream",
     "text": [
      "Epoch 19/50\n",
      "Loss : 2.3012\n"
     ]
    },
    {
     "name": "stderr",
     "output_type": "stream",
     "text": [
      " 40%|████      | 20/50 [00:39<00:57,  1.92s/it]"
     ]
    },
    {
     "name": "stdout",
     "output_type": "stream",
     "text": [
      "Epoch 20/50\n",
      "Loss : 2.3012\n"
     ]
    },
    {
     "name": "stderr",
     "output_type": "stream",
     "text": [
      " 42%|████▏     | 21/50 [00:41<00:56,  1.94s/it]"
     ]
    },
    {
     "name": "stdout",
     "output_type": "stream",
     "text": [
      "Epoch 21/50\n",
      "Loss : 2.3012\n"
     ]
    },
    {
     "name": "stderr",
     "output_type": "stream",
     "text": [
      " 44%|████▍     | 22/50 [00:43<00:54,  1.93s/it]"
     ]
    },
    {
     "name": "stdout",
     "output_type": "stream",
     "text": [
      "Epoch 22/50\n",
      "Loss : 2.3012\n"
     ]
    },
    {
     "name": "stderr",
     "output_type": "stream",
     "text": [
      " 46%|████▌     | 23/50 [00:45<00:53,  1.99s/it]"
     ]
    },
    {
     "name": "stdout",
     "output_type": "stream",
     "text": [
      "Epoch 23/50\n",
      "Loss : 2.3012\n"
     ]
    },
    {
     "name": "stderr",
     "output_type": "stream",
     "text": [
      " 48%|████▊     | 24/50 [00:47<00:52,  2.01s/it]"
     ]
    },
    {
     "name": "stdout",
     "output_type": "stream",
     "text": [
      "Epoch 24/50\n",
      "Loss : 2.3012\n"
     ]
    },
    {
     "name": "stderr",
     "output_type": "stream",
     "text": [
      " 50%|█████     | 25/50 [00:49<00:50,  2.04s/it]"
     ]
    },
    {
     "name": "stdout",
     "output_type": "stream",
     "text": [
      "Epoch 25/50\n",
      "Loss : 2.3012\n"
     ]
    },
    {
     "name": "stderr",
     "output_type": "stream",
     "text": [
      " 52%|█████▏    | 26/50 [00:51<00:48,  2.01s/it]"
     ]
    },
    {
     "name": "stdout",
     "output_type": "stream",
     "text": [
      "Epoch 26/50\n",
      "Loss : 2.3012\n"
     ]
    },
    {
     "name": "stderr",
     "output_type": "stream",
     "text": [
      " 54%|█████▍    | 27/50 [00:53<00:45,  1.97s/it]"
     ]
    },
    {
     "name": "stdout",
     "output_type": "stream",
     "text": [
      "Epoch 27/50\n",
      "Loss : 2.3012\n"
     ]
    },
    {
     "name": "stderr",
     "output_type": "stream",
     "text": [
      " 56%|█████▌    | 28/50 [00:55<00:43,  1.97s/it]"
     ]
    },
    {
     "name": "stdout",
     "output_type": "stream",
     "text": [
      "Epoch 28/50\n",
      "Loss : 2.3012\n"
     ]
    },
    {
     "name": "stderr",
     "output_type": "stream",
     "text": [
      " 58%|█████▊    | 29/50 [00:57<00:42,  2.02s/it]"
     ]
    },
    {
     "name": "stdout",
     "output_type": "stream",
     "text": [
      "Epoch 29/50\n",
      "Loss : 2.3012\n"
     ]
    },
    {
     "name": "stderr",
     "output_type": "stream",
     "text": [
      " 60%|██████    | 30/50 [00:59<00:38,  1.95s/it]"
     ]
    },
    {
     "name": "stdout",
     "output_type": "stream",
     "text": [
      "Epoch 30/50\n",
      "Loss : 2.3012\n"
     ]
    },
    {
     "name": "stderr",
     "output_type": "stream",
     "text": [
      " 62%|██████▏   | 31/50 [01:01<00:36,  1.92s/it]"
     ]
    },
    {
     "name": "stdout",
     "output_type": "stream",
     "text": [
      "Epoch 31/50\n",
      "Loss : 2.3012\n"
     ]
    },
    {
     "name": "stderr",
     "output_type": "stream",
     "text": [
      " 64%|██████▍   | 32/50 [01:03<00:34,  1.92s/it]"
     ]
    },
    {
     "name": "stdout",
     "output_type": "stream",
     "text": [
      "Epoch 32/50\n",
      "Loss : 2.3012\n"
     ]
    },
    {
     "name": "stderr",
     "output_type": "stream",
     "text": [
      " 66%|██████▌   | 33/50 [01:05<00:33,  1.95s/it]"
     ]
    },
    {
     "name": "stdout",
     "output_type": "stream",
     "text": [
      "Epoch 33/50\n",
      "Loss : 2.3012\n"
     ]
    },
    {
     "name": "stderr",
     "output_type": "stream",
     "text": [
      " 68%|██████▊   | 34/50 [01:07<00:31,  1.99s/it]"
     ]
    },
    {
     "name": "stdout",
     "output_type": "stream",
     "text": [
      "Epoch 34/50\n",
      "Loss : 2.3012\n"
     ]
    },
    {
     "name": "stderr",
     "output_type": "stream",
     "text": [
      " 70%|███████   | 35/50 [01:09<00:29,  1.97s/it]"
     ]
    },
    {
     "name": "stdout",
     "output_type": "stream",
     "text": [
      "Epoch 35/50\n",
      "Loss : 2.3012\n"
     ]
    },
    {
     "name": "stderr",
     "output_type": "stream",
     "text": [
      " 72%|███████▏  | 36/50 [01:11<00:28,  2.04s/it]"
     ]
    },
    {
     "name": "stdout",
     "output_type": "stream",
     "text": [
      "Epoch 36/50\n",
      "Loss : 2.3012\n"
     ]
    },
    {
     "name": "stderr",
     "output_type": "stream",
     "text": [
      " 74%|███████▍  | 37/50 [01:13<00:26,  2.01s/it]"
     ]
    },
    {
     "name": "stdout",
     "output_type": "stream",
     "text": [
      "Epoch 37/50\n",
      "Loss : 2.3012\n"
     ]
    },
    {
     "name": "stderr",
     "output_type": "stream",
     "text": [
      " 76%|███████▌  | 38/50 [01:15<00:23,  1.99s/it]"
     ]
    },
    {
     "name": "stdout",
     "output_type": "stream",
     "text": [
      "Epoch 38/50\n",
      "Loss : 2.3012\n"
     ]
    },
    {
     "name": "stderr",
     "output_type": "stream",
     "text": [
      " 78%|███████▊  | 39/50 [01:17<00:21,  1.98s/it]"
     ]
    },
    {
     "name": "stdout",
     "output_type": "stream",
     "text": [
      "Epoch 39/50\n",
      "Loss : 2.3012\n"
     ]
    },
    {
     "name": "stderr",
     "output_type": "stream",
     "text": [
      " 80%|████████  | 40/50 [01:19<00:20,  2.00s/it]"
     ]
    },
    {
     "name": "stdout",
     "output_type": "stream",
     "text": [
      "Epoch 40/50\n",
      "Loss : 2.3012\n"
     ]
    },
    {
     "name": "stderr",
     "output_type": "stream",
     "text": [
      " 82%|████████▏ | 41/50 [01:21<00:17,  1.99s/it]"
     ]
    },
    {
     "name": "stdout",
     "output_type": "stream",
     "text": [
      "Epoch 41/50\n",
      "Loss : 2.3012\n"
     ]
    },
    {
     "name": "stderr",
     "output_type": "stream",
     "text": [
      " 84%|████████▍ | 42/50 [01:23<00:15,  1.99s/it]"
     ]
    },
    {
     "name": "stdout",
     "output_type": "stream",
     "text": [
      "Epoch 42/50\n",
      "Loss : 2.3012\n"
     ]
    },
    {
     "name": "stderr",
     "output_type": "stream",
     "text": [
      " 86%|████████▌ | 43/50 [01:25<00:14,  2.01s/it]"
     ]
    },
    {
     "name": "stdout",
     "output_type": "stream",
     "text": [
      "Epoch 43/50\n",
      "Loss : 2.3012\n"
     ]
    },
    {
     "name": "stderr",
     "output_type": "stream",
     "text": [
      " 88%|████████▊ | 44/50 [01:27<00:12,  2.02s/it]"
     ]
    },
    {
     "name": "stdout",
     "output_type": "stream",
     "text": [
      "Epoch 44/50\n",
      "Loss : 2.3012\n"
     ]
    },
    {
     "name": "stderr",
     "output_type": "stream",
     "text": [
      " 90%|█████████ | 45/50 [01:29<00:09,  1.97s/it]"
     ]
    },
    {
     "name": "stdout",
     "output_type": "stream",
     "text": [
      "Epoch 45/50\n",
      "Loss : 2.3012\n"
     ]
    },
    {
     "name": "stderr",
     "output_type": "stream",
     "text": [
      " 92%|█████████▏| 46/50 [01:31<00:07,  1.98s/it]"
     ]
    },
    {
     "name": "stdout",
     "output_type": "stream",
     "text": [
      "Epoch 46/50\n",
      "Loss : 2.3012\n"
     ]
    },
    {
     "name": "stderr",
     "output_type": "stream",
     "text": [
      " 94%|█████████▍| 47/50 [01:33<00:05,  2.00s/it]"
     ]
    },
    {
     "name": "stdout",
     "output_type": "stream",
     "text": [
      "Epoch 47/50\n",
      "Loss : 2.3012\n"
     ]
    },
    {
     "name": "stderr",
     "output_type": "stream",
     "text": [
      " 96%|█████████▌| 48/50 [01:35<00:04,  2.09s/it]"
     ]
    },
    {
     "name": "stdout",
     "output_type": "stream",
     "text": [
      "Epoch 48/50\n",
      "Loss : 2.3012\n"
     ]
    },
    {
     "name": "stderr",
     "output_type": "stream",
     "text": [
      " 98%|█████████▊| 49/50 [01:37<00:02,  2.12s/it]"
     ]
    },
    {
     "name": "stdout",
     "output_type": "stream",
     "text": [
      "Epoch 49/50\n",
      "Loss : 2.3012\n"
     ]
    },
    {
     "name": "stderr",
     "output_type": "stream",
     "text": [
      "100%|██████████| 50/50 [01:39<00:00,  1.99s/it]"
     ]
    },
    {
     "name": "stdout",
     "output_type": "stream",
     "text": [
      "Epoch 50/50\n",
      "Loss : 2.3012\n"
     ]
    },
    {
     "name": "stderr",
     "output_type": "stream",
     "text": [
      "\n"
     ]
    }
   ],
   "source": [
    "DNN, losses_DNN = retropropagation(DNN, X_train_bw, y_train, n_epochs = 50, lr=0.001, batch_size = 64)"
   ]
  },
  {
   "cell_type": "code",
   "execution_count": 509,
   "metadata": {},
   "outputs": [],
   "source": [
    "## Accuracy on the test set\n",
    "def accuracy_DNN(DNN, X, y):\n",
    "    '''\n",
    "    Compute the accuracy of the DNN on the test set\n",
    "    '''\n",
    "    y_pred = entree_sortie_reseau(DNN, X)[-1].argmax(axis = 1)\n",
    "    return (y_pred == y).mean()\n"
   ]
  },
  {
   "cell_type": "code",
   "execution_count": 510,
   "metadata": {},
   "outputs": [
    {
     "name": "stdout",
     "output_type": "stream",
     "text": [
      "Test accuracy : 0.1135\n"
     ]
    }
   ],
   "source": [
    "test_acc = accuracy_DNN(DNN, X_test_bw, y_test)\n",
    "print('Test accuracy : %.4f' % test_acc)"
   ]
  },
  {
   "cell_type": "code",
   "execution_count": 511,
   "metadata": {},
   "outputs": [
    {
     "name": "stdout",
     "output_type": "stream",
     "text": [
      "Train accuracy : 0.1124\n"
     ]
    }
   ],
   "source": [
    "train_acc = accuracy_DNN(DNN, X_train_bw, y_train)\n",
    "print('Train accuracy : %.4f' % train_acc)"
   ]
  },
  {
   "cell_type": "code",
   "execution_count": 506,
   "metadata": {},
   "outputs": [],
   "source": [
    "## Plot some images and their predictions\n",
    "def plot_mnist_predictions(data, labels, predictions):\n",
    "    fig, ax = plt.subplots(2,5)\n",
    "    fig.set_size_inches(10, 4)\n",
    "    for i, axi in enumerate(ax.flat):\n",
    "        axi.imshow(data[i].reshape(28,28), cmap='gray')\n",
    "        axi.set_xlabel('True : %d, Pred : %d' % (labels[i], predictions[i]), fontsize = 10)\n",
    "    plt.tight_layout()\n",
    "    plt.show()"
   ]
  },
  {
   "cell_type": "code",
   "execution_count": 490,
   "metadata": {},
   "outputs": [
    {
     "data": {
      "image/png": "[encoded data removed]",
      "text/plain": [
       "<Figure size 1000x400 with 10 Axes>"
      ]
     },
     "metadata": {},
     "output_type": "display_data"
    }
   ],
   "source": [
    "predictions = entree_sortie_reseau(DNN, X_test_bw)[-1].argmax(axis = 1)\n",
    "plot_mnist_predictions(X_test_bw[10:20], y_test[10:20], predictions[10:20])\n"
   ]
  }
 ],
 "metadata": {
  "kernelspec": {
   "display_name": "Python 3 (ipykernel)",
   "language": "python",
   "name": "python3"
  },
  "language_info": {
   "codemirror_mode": {
    "name": "ipython",
    "version": 3
   },
   "file_extension": ".py",
   "mimetype": "text/x-python",
   "name": "python",
   "nbconvert_exporter": "python",
   "pygments_lexer": "ipython3",
   "version": "3.9.18"
  }
 },
 "nbformat": 4,
 "nbformat_minor": 2
}
